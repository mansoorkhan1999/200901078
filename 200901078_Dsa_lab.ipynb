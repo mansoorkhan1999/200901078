{
  "nbformat": 4,
  "nbformat_minor": 0,
  "metadata": {
    "colab": {
      "name": "200901078_Dsa_lab.ipynb",
      "provenance": [],
      "authorship_tag": "ABX9TyNhgyRAnqMrQrG45ZvEUN/V",
      "include_colab_link": true
    },
    "kernelspec": {
      "name": "python3",
      "display_name": "Python 3"
    },
    "language_info": {
      "name": "python"
    }
  },
  "cells": [
    {
      "cell_type": "markdown",
      "metadata": {
        "id": "view-in-github",
        "colab_type": "text"
      },
      "source": [
        "<a href=\"https://colab.research.google.com/github/mansoorkhan1999/200901078/blob/main/200901078_Dsa_lab.ipynb\" target=\"_parent\"><img src=\"https://colab.research.google.com/assets/colab-badge.svg\" alt=\"Open In Colab\"/></a>"
      ]
    },
    {
      "cell_type": "code",
      "execution_count": 12,
      "metadata": {
        "colab": {
          "base_uri": "https://localhost:8080/"
        },
        "id": "jFRr7CIDVD65",
        "outputId": "9ab5118a-eb57-4b71-eadb-10ecd253a998"
      },
      "outputs": [
        {
          "output_type": "stream",
          "name": "stdout",
          "text": [
            "[8, 5, 4, 2, 1]\n"
          ]
        }
      ],
      "source": [
        "def insertionSort(arr):\n",
        "    for i in range(1, len(arr)):\n",
        "        key = arr[i]  \n",
        "        j = i-1 \n",
        "        for i in range(0,i):\n",
        "          if j>=0 and key<arr[j]:\n",
        "            arr[j+1] = arr[j]\n",
        "            j -= 1\n",
        "        arr[j+1] = key\n",
        "arr = [8, 5, 4, 1, 2]\n",
        "insertionSort(arr)\n",
        "print(arr)"
      ]
    }
  ]
}